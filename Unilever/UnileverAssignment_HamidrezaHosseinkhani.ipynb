{
  "nbformat": 4,
  "nbformat_minor": 0,
  "metadata": {
    "colab": {
      "provenance": []
    },
    "kernelspec": {
      "name": "python3",
      "display_name": "Python 3"
    },
    "language_info": {
      "name": "python"
    }
  },
  "cells": [
    {
      "cell_type": "markdown",
      "source": [
        "# Unilever Coding Test"
      ],
      "metadata": {
        "id": "QgP6wy7f12BI"
      }
    },
    {
      "cell_type": "markdown",
      "source": [
        "Candidate: Hamidreza Hosseinkhani (`hamidreza@hosseinkhani.me`)"
      ],
      "metadata": {
        "id": "5D1ig-521_jc"
      }
    },
    {
      "cell_type": "markdown",
      "source": [
        "## Damage Calculation\n",
        "If we name the frontline fighter, `front` and the backup fighter, `back`, we can calculate the total damage with the least arithmetic operations as bellow:\n",
        "\n",
        "<img width=\"500\" src=\"https://bayanbox.ir/view/6447323184505277090/20250407-163646.jpg\">"
      ],
      "metadata": {
        "id": "aS7UfVg0641U"
      }
    },
    {
      "cell_type": "code",
      "source": [
        "def calc_damage(h_front: int, d_front: int,\n",
        "           h_back: int, d_back: int,\n",
        "           b: int) -> float:\n",
        "    return (h_front*(d_front+d_back) + h_back*d_back) / b"
      ],
      "metadata": {
        "id": "zAE_LZvOAmC-"
      },
      "execution_count": 1,
      "outputs": []
    },
    {
      "cell_type": "markdown",
      "source": [
        "## 1. The naive idea: Brute-force\n",
        "\n",
        "Not practical for large values of N:\n",
        "- Time Complexity: `O(N²)`\n",
        "- N in worst case: 500,000\n",
        "- Operations in worst case: (500,000)² = 250 billion operations\n",
        "- Took hours or even days on a normal computer"
      ],
      "metadata": {
        "id": "5j0buFPt2OX8"
      }
    },
    {
      "cell_type": "code",
      "source": [
        "def getMaxDamage(N: int, H: list[int], D: list[int], B: int) -> float:\n",
        "    max_damage = -1.0\n",
        "    for front in range(N):\n",
        "        for back in range(N):\n",
        "            if back != front:\n",
        "                back = j\n",
        "                damage = calc_damage(H[front], D[front], H[back], D[back], B)\n",
        "                if damage > max_damage:\n",
        "                    max_damage = damage\n",
        "    return max_damage"
      ],
      "metadata": {
        "id": "5IaLxA7nNNo-"
      },
      "execution_count": 2,
      "outputs": []
    },
    {
      "cell_type": "markdown",
      "source": [
        "## 2. Prune the search space using heuristics\n",
        "In many practical scenarios, we can check only a few promising pairs instead of all possible ones. This approach often gets very close to the optimal answer—or even exactly right—but it does not guarantee that the optimal pair will always be found.\n",
        "- Approximate Alogorithm\n",
        "- Feasible search space (Only checks up to `K²` pairs instead of `N²`)\n",
        "- Needs a heuristic function to score promising pairs. A heuristic for choosing top-k frontliners can be `F[i]=H[i]×D[i]` since a high-health fighter with moderate damage can keep the backup fighting longer. For choosing promising backup fighters, we can use he raw `𝐷[𝑖]` score because the backup’s damage is applied for the entire time the front fighter is alive.\n",
        "- Needs to sort the fighters based on the score that takes `O(Nlog(N))`"
      ],
      "metadata": {
        "id": "yAlORuT5FMk7"
      }
    },
    {
      "cell_type": "code",
      "execution_count": 3,
      "metadata": {
        "id": "yC5PKpJ3D_EZ"
      },
      "outputs": [],
      "source": [
        "def getMaxDamage(N: int, H: list[int], D: list[int], B: int) -> float:\n",
        "\n",
        "    K = 100 # number of candidates to check\n",
        "\n",
        "    front_topK_candidates = \\\n",
        "        sorted(range(N), key=lambda i: H[i] * D[i], reverse=True)[:K]\n",
        "    back_topK_candidates = \\\n",
        "        sorted(range(N), key=lambda i: D[i], reverse=True)[:K]\n",
        "\n",
        "    max_damage = -1.0\n",
        "    for front in front_topK_candidates:\n",
        "        for back in back_topK_candidates:\n",
        "            if back != front:\n",
        "                back = j\n",
        "                damage = calc_damage(H[front], D[front], H[back], D[back], B)\n",
        "                if damage > max_damage:\n",
        "                    max_damage = damage\n",
        "    return max_damage"
      ]
    },
    {
      "cell_type": "markdown",
      "source": [
        "## 3. Machine Learning\n",
        "In practical data-driven scenarios where there is enough input/output example, we can train an ML model instead of the heuristic function to model the non-linear interplay between a fighter's health and damage."
      ],
      "metadata": {
        "id": "HwN5IqBhKBfV"
      }
    },
    {
      "cell_type": "markdown",
      "source": [
        "## 4. Best Exact Approach: Reformulate the problem as a maximum‐query over a set of linear functions\n",
        "\n",
        "By transforming the pairing problem into a sequence of linear maximum queries (a well-known technique in computational geometry) and using the `Convex Hull Trick`, we obtain an exact algorithm with a worst-case time complexity of `𝑂(𝑛 log𝑛)`. This is significantly better than brute force and does not rely on any heuristic selection of a candidate set.\n",
        "\n",
        "- Can be solved using the `convex hull trick`.\n",
        "- Is provably faster than `𝑂(N²)` brute force in the worst case.\n"
      ],
      "metadata": {
        "id": "j7toswiIJeGg"
      }
    },
    {
      "cell_type": "markdown",
      "source": [
        "### Find the lines equations\n",
        "\n",
        "<img width=\"700\" src=\"https://bayanbox.ir/view/6012393469465137839/20250407-212829.jpg\">"
      ],
      "metadata": {
        "id": "9msItHmkBjJG"
      }
    },
    {
      "cell_type": "markdown",
      "source": [
        "Here I use Two-pass `Li Chao Tree` to implement the Convex Hull Trick."
      ],
      "metadata": {
        "id": "gF6YO9inCSzS"
      }
    },
    {
      "cell_type": "code",
      "source": [
        "class Line:\n",
        "    def __init__(self, m, b):\n",
        "        self.m = m  # slope\n",
        "        self.b = b  # intercept\n",
        "\n",
        "    def value(self, x):\n",
        "        return self.m * x + self.b"
      ],
      "metadata": {
        "id": "u2lm38yshDoa"
      },
      "execution_count": 4,
      "outputs": []
    },
    {
      "cell_type": "code",
      "source": [
        "class LiChaoTree:\n",
        "    def __init__(self, lo, hi):\n",
        "        self.lo = lo\n",
        "        self.hi = hi\n",
        "        self.line = None\n",
        "        self.left = None\n",
        "        self.right = None\n",
        "\n",
        "    def _add(self, new, l, r):\n",
        "        m = (l + r) / 2\n",
        "        if self.line is None:\n",
        "            self.line = new\n",
        "            return\n",
        "\n",
        "        left_better = new.value(l) > self.line.value(l)\n",
        "        mid_better = new.value(m) > self.line.value(m)\n",
        "        right_better = new.value(r) > self.line.value(r)\n",
        "\n",
        "        if mid_better:\n",
        "            self.line, new = new, self.line\n",
        "\n",
        "        if r - l < 1e-6:\n",
        "            return\n",
        "\n",
        "        if left_better != mid_better:\n",
        "            if self.left is None:\n",
        "                self.left = LiChaoTree(l, m)\n",
        "            self.left._add(new, l, m)\n",
        "        elif right_better != mid_better:\n",
        "            if self.right is None:\n",
        "                self.right = LiChaoTree(m, r)\n",
        "            self.right._add(new, m, r)\n",
        "\n",
        "    def add_line(self, new_line):\n",
        "        self._add(new_line, self.lo, self.hi)\n",
        "\n",
        "    def _query(self, x, l, r):\n",
        "        m = (l + r) / 2\n",
        "        res_val = self.line.value(x) if self.line else float('-inf')\n",
        "        if x < m and self.left:\n",
        "            res_val = max(res_val, self.left._query(x, l, m))\n",
        "        elif x >= m and self.right:\n",
        "            res_val = max(res_val, self.right._query(x, m, r))\n",
        "        return res_val\n",
        "\n",
        "    def query(self, x):\n",
        "        return self._query(x, self.lo, self.hi)"
      ],
      "metadata": {
        "id": "Qw0hKbDmhDcf"
      },
      "execution_count": 5,
      "outputs": []
    },
    {
      "cell_type": "code",
      "source": [
        "def getMaxDamage(N: int, H: list[int], D: list[int], B: int) -> float:\n",
        "    fighters = [(H[i], D[i]) for i in range(N)]\n",
        "    min_x = min(H) - 1\n",
        "    max_x = max(H) + 1\n",
        "\n",
        "    max_damage = 0.0\n",
        "\n",
        "    # Process left to right\n",
        "    tree = LiChaoTree(min_x, max_x)\n",
        "    for i in range(N):\n",
        "        h, d = H[i], D[i]\n",
        "        if i > 0:\n",
        "            best = tree.query(h)\n",
        "            total = (h * d + best) / B\n",
        "            max_damage = max(max_damage, total)\n",
        "        tree.add_line(Line(d, d * h))\n",
        "\n",
        "    # Process right to left\n",
        "    tree = LiChaoTree(min_x, max_x)\n",
        "    for i in reversed(range(N)):\n",
        "        h, d = H[i], D[i]\n",
        "        if i < N - 1:\n",
        "            best = tree.query(h)\n",
        "            total = (h * d + best) / B\n",
        "            max_damage = max(max_damage, total)\n",
        "        tree.add_line(Line(d, d * h))\n",
        "\n",
        "    return round(max_damage, 6)"
      ],
      "metadata": {
        "id": "wQ7HlEKFg9q0"
      },
      "execution_count": 6,
      "outputs": []
    },
    {
      "cell_type": "markdown",
      "source": [
        "## RUN the code!"
      ],
      "metadata": {
        "id": "M8WxLE2-OKk4"
      }
    },
    {
      "cell_type": "code",
      "source": [
        "if __name__ == '__main__':\n",
        "    N = int(input())\n",
        "    H = list(eval(input()))\n",
        "    D = list(eval(input()))\n",
        "    B = int(input())\n",
        "\n",
        "    print(getMaxDamage(N, H, D, B))"
      ],
      "metadata": {
        "id": "h54QZXe9EnCy",
        "colab": {
          "base_uri": "https://localhost:8080/"
        },
        "outputId": "3ec7b13b-adb8-4241-9206-1f6f7ed126a0"
      },
      "execution_count": 7,
      "outputs": [
        {
          "output_type": "stream",
          "name": "stdout",
          "text": [
            "4\n",
            "[1, 1, 2, 3]\n",
            "[1, 2, 1, 100]\n",
            "8\n",
            "62.75\n"
          ]
        }
      ]
    }
  ]
}